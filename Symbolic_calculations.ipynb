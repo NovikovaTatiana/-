{
  "cells": [
    {
      "cell_type": "markdown",
      "metadata": {
        "id": "view-in-github",
        "colab_type": "text"
      },
      "source": [
        "<a href=\"https://colab.research.google.com/github/NovikovaTatiana/-/blob/main/Symbolic_calculations.ipynb\" target=\"_parent\"><img src=\"https://colab.research.google.com/assets/colab-badge.svg\" alt=\"Open In Colab\"/></a>"
      ]
    },
    {
      "cell_type": "code",
      "source": [
        "from IPython.display import display, Math\n",
        "from math import sqrt, pi, atan"
      ],
      "metadata": {
        "id": "my3pnrWqsS2Y"
      },
      "id": "my3pnrWqsS2Y",
      "execution_count": 2,
      "outputs": []
    },
    {
      "cell_type": "code",
      "source": [
        "def get_gcd(n, m):\n",
        "    while m > 0:\n",
        "        n, m = m, n % m\n",
        "    return n"
      ],
      "metadata": {
        "id": "XdL4xu-ZsYsz"
      },
      "id": "XdL4xu-ZsYsz",
      "execution_count": 3,
      "outputs": []
    },
    {
      "cell_type": "code",
      "execution_count": 4,
      "metadata": {
        "id": "29wQ2kIi935T"
      },
      "outputs": [],
      "source": [
        "class Rational:\n",
        "    def __init__(self, n, m = 1):\n",
        "        self.n = n\n",
        "        self.m = m\n",
        "        self.normalize()\n",
        "    def normalize(self):\n",
        "        if self.n == 0: \n",
        "            self.m = 1\n",
        "            return\n",
        "        if self.m < 0:\n",
        "            self.n *= -1\n",
        "            self.m *= -1\n",
        "        gcd = get_gcd(abs(self.n), self.m)\n",
        "        self.n //= gcd\n",
        "        self.m //= gcd\n",
        "    def __str__(self):\n",
        "        return f\"{self.n}/{self.m}\"\n",
        "    \n",
        "    def __add__(self, q):\n",
        "        n = self.n * q.m + self.m * q.n\n",
        "        m = self.m * q.m\n",
        "        return Rational(n, m)\n",
        "    def __sub__(self, q):\n",
        "        n = self.n * q.m - self.m * q.n\n",
        "        m = self.m * q.m\n",
        "        return Rational(n, m)\n",
        "    def __mul__(self, q):\n",
        "        n = self.n * q.n \n",
        "        m = self.m * q.m\n",
        "        return Rational(n, m)\n",
        "    def __truediv__(self, q):\n",
        "        if q.n == 0:\n",
        "            raise ZeroDivisionError(\"division rational number by zero\")\n",
        "        n = self.n * q.m\n",
        "        m = self.m * q.n\n",
        "        return Rational(n, m)\n",
        "\n",
        "    def __pow__(self, k):\n",
        "        n = self.n\n",
        "        m = self.m\n",
        "        for i in range(k-1):\n",
        "          n*= self.n \n",
        "          m*= self.m \n",
        "        return Rational(n, m)\n",
        "\n",
        "    def __neg__(self):\n",
        "        return Rational(-self.n, self.m)\n",
        "\n",
        "    def __abs__(self):\n",
        "        if (self.n<=0): return Rational(-self.n, self.m)\n",
        "        else: return Rational(self.n, self.m)\n",
        "\n",
        "    def __iadd__(self, q):\n",
        "        n = self.n * q.m + self.m * q.n\n",
        "        m = self.m * q.m\n",
        "        return Rational(n, m)\n",
        "    def __isub__(self, q):\n",
        "        n = self.n * q.m - self.m * q.n\n",
        "        m = self.m * q.m\n",
        "        return Rational(n, m)\n",
        "    def __imul__(self, q):\n",
        "        n = self.n * q.n \n",
        "        m = self.m * q.m\n",
        "        return Rational(n, m)\n",
        "    def __itruediv__(self, q):\n",
        "        if q.n == 0:\n",
        "            raise ZeroDivisionError(\"division rational number by zero\")\n",
        "        n = self.n * q.m\n",
        "        m = self.m * q.n\n",
        "        return Rational(n, m)\n",
        "\n",
        "    def __eq__(self, q):\n",
        "        return self.n == q.n and self.m == q.m\n",
        "    def __ne__(self, q):\n",
        "        return self.n != q.n or self.m != q.m\n",
        "    def __lt__(self, q):\n",
        "        p = self.n*q.m - q.n*self.m\n",
        "        return p<0\n",
        "    def __gt__(self, q):\n",
        "        p = self.n*q.m - q.n*self.m\n",
        "        return p>0\n",
        "    def __le__(self, q):\n",
        "        p = self.n*q.m - q.n*self.m\n",
        "        return p<=0\n",
        "    def __ge__(self, q):\n",
        "        p = self.n*q.m - q.n*self.m\n",
        "        return p>=0\n",
        "\n",
        "    def __float__(self):\n",
        "        return self.n / self.m\n",
        "\n",
        "    def evalf (self, n = 15):\n",
        "        return f\"{(self.n / self.m):.{n}f}\"\n",
        "\n",
        "    def intpart (self):\n",
        "      n = abs(self.n)\n",
        "      m = self.m\n",
        "      ipart = n//m\n",
        "      rpart = n-m*ipart\n",
        "      if self.n<0: \n",
        "        ipart*=-1\n",
        "        rpart*=-1\n",
        "      return ipart, Rational(rpart, m)\n",
        "\n",
        "    def toLatex(self, mixed = False):\n",
        "      if (mixed == False):\n",
        "        if self.m == 1:\n",
        "            return f\"{self.n}\"\n",
        "        elif self.n > 0:\n",
        "            return f\"\\\\dfrac{{{self.n}}}{{{self.m}}}\"\n",
        "        else:\n",
        "            return f\"-\\\\dfrac{{{-self.n}}}{{{self.m}}}\"\n",
        "        return  \n",
        "      else:\n",
        "        p = self.intpart()\n",
        "        if self.m == 1:\n",
        "            return f\"{self.n}\"\n",
        "        elif self.n>0:\n",
        "            return f\"{p[0]}\\\\dfrac{{{p[1].n}}}{{{p[1].m}}}\"\n",
        "        else:\n",
        "            return f\"-{abs(p[0])}\\\\dfrac{{{abs(p[1].n)}}}{{{p[1].m}}}\"\n",
        "        return  \n",
        "\n",
        "    def show(self, mixed = False):\n",
        "        out = self.toLatex(mixed)\n",
        "        display(Math(out))\n"
      ],
      "id": "29wQ2kIi935T"
    },
    {
      "cell_type": "markdown",
      "source": [
        "задание 5. Остальные арифметические операции"
      ],
      "metadata": {
        "id": "rN6_aro4Q9aR"
      },
      "id": "rN6_aro4Q9aR"
    },
    {
      "cell_type": "code",
      "source": [
        "p = Rational(1, 2) - Rational(1, 3)\n",
        "p.show()\n",
        "p = Rational(1, 2) * Rational(1, 3)\n",
        "p.show()"
      ],
      "metadata": {
        "colab": {
          "base_uri": "https://localhost:8080/",
          "height": 85
        },
        "id": "4UwNS3QuSZWu",
        "outputId": "5f6faedc-52a8-4386-f55a-e7db9a194be9"
      },
      "id": "4UwNS3QuSZWu",
      "execution_count": 5,
      "outputs": [
        {
          "output_type": "display_data",
          "data": {
            "text/plain": [
              "<IPython.core.display.Math object>"
            ],
            "text/latex": "$\\displaystyle \\dfrac{1}{6}$"
          },
          "metadata": {}
        },
        {
          "output_type": "display_data",
          "data": {
            "text/plain": [
              "<IPython.core.display.Math object>"
            ],
            "text/latex": "$\\displaystyle \\dfrac{1}{6}$"
          },
          "metadata": {}
        }
      ]
    },
    {
      "cell_type": "markdown",
      "source": [
        "Задание 6. Возведение в степень"
      ],
      "metadata": {
        "id": "syDFYMsvOUhP"
      },
      "id": "syDFYMsvOUhP"
    },
    {
      "cell_type": "code",
      "source": [
        "p = Rational(1, 2) ** 2\n",
        "p.show()"
      ],
      "metadata": {
        "colab": {
          "base_uri": "https://localhost:8080/",
          "height": 51
        },
        "id": "DMnk1vOEPCbk",
        "outputId": "d4b43854-c1f9-4e28-a5ea-211903cb7f12"
      },
      "id": "DMnk1vOEPCbk",
      "execution_count": 6,
      "outputs": [
        {
          "output_type": "display_data",
          "data": {
            "text/plain": [
              "<IPython.core.display.Math object>"
            ],
            "text/latex": "$\\displaystyle \\dfrac{1}{4}$"
          },
          "metadata": {}
        }
      ]
    },
    {
      "cell_type": "markdown",
      "source": [
        "задание 8. Унарный минус"
      ],
      "metadata": {
        "id": "MPJ9fSZaQgoO"
      },
      "id": "MPJ9fSZaQgoO"
    },
    {
      "cell_type": "code",
      "source": [
        "p = -Rational(1, 2) \n",
        "p.show()"
      ],
      "metadata": {
        "colab": {
          "base_uri": "https://localhost:8080/",
          "height": 51
        },
        "id": "N_oSD9RtVKPb",
        "outputId": "cfb4315e-3175-462a-9b8b-943142f27ab2"
      },
      "id": "N_oSD9RtVKPb",
      "execution_count": 7,
      "outputs": [
        {
          "output_type": "display_data",
          "data": {
            "text/plain": [
              "<IPython.core.display.Math object>"
            ],
            "text/latex": "$\\displaystyle -\\dfrac{1}{2}$"
          },
          "metadata": {}
        }
      ]
    },
    {
      "cell_type": "markdown",
      "source": [
        "задание 9. Модуль"
      ],
      "metadata": {
        "id": "UCI2Swq2Vtp9"
      },
      "id": "UCI2Swq2Vtp9"
    },
    {
      "cell_type": "code",
      "source": [
        "p = abs(Rational(-1, 2))\n",
        "p.show()"
      ],
      "metadata": {
        "colab": {
          "base_uri": "https://localhost:8080/",
          "height": 51
        },
        "id": "xY0zK3sTWLhT",
        "outputId": "d43d1d82-5e34-42b5-90e8-a6006164d65c"
      },
      "id": "xY0zK3sTWLhT",
      "execution_count": 8,
      "outputs": [
        {
          "output_type": "display_data",
          "data": {
            "text/plain": [
              "<IPython.core.display.Math object>"
            ],
            "text/latex": "$\\displaystyle \\dfrac{1}{2}$"
          },
          "metadata": {}
        }
      ]
    },
    {
      "cell_type": "markdown",
      "source": [
        "задание 10. +=, -=, *=, /="
      ],
      "metadata": {
        "id": "H-IvlcLdWbW0"
      },
      "id": "H-IvlcLdWbW0"
    },
    {
      "cell_type": "code",
      "source": [
        "p = Rational(-1, 2)\n",
        "p-= Rational(2, 3)\n",
        "p.show()\n",
        "p = Rational(-1, 2)\n",
        "p+= Rational(2, 3)\n",
        "p.show()\n",
        "p = Rational(-1, 2)\n",
        "p*= Rational(2, 3)\n",
        "p.show()\n",
        "p = Rational(-1, 2)\n",
        "p/= Rational(2, 3)\n",
        "p.show()"
      ],
      "metadata": {
        "colab": {
          "base_uri": "https://localhost:8080/",
          "height": 153
        },
        "id": "aYMAAm5GX_F9",
        "outputId": "4f3508e9-98c4-45c0-a053-a590f1f6fcee"
      },
      "id": "aYMAAm5GX_F9",
      "execution_count": 9,
      "outputs": [
        {
          "output_type": "display_data",
          "data": {
            "text/plain": [
              "<IPython.core.display.Math object>"
            ],
            "text/latex": "$\\displaystyle -\\dfrac{7}{6}$"
          },
          "metadata": {}
        },
        {
          "output_type": "display_data",
          "data": {
            "text/plain": [
              "<IPython.core.display.Math object>"
            ],
            "text/latex": "$\\displaystyle \\dfrac{1}{6}$"
          },
          "metadata": {}
        },
        {
          "output_type": "display_data",
          "data": {
            "text/plain": [
              "<IPython.core.display.Math object>"
            ],
            "text/latex": "$\\displaystyle -\\dfrac{1}{3}$"
          },
          "metadata": {}
        },
        {
          "output_type": "display_data",
          "data": {
            "text/plain": [
              "<IPython.core.display.Math object>"
            ],
            "text/latex": "$\\displaystyle -\\dfrac{3}{4}$"
          },
          "metadata": {}
        }
      ]
    },
    {
      "cell_type": "markdown",
      "source": [
        "задание 11. < <= > >= == !="
      ],
      "metadata": {
        "id": "vxo3qecXYW3b"
      },
      "id": "vxo3qecXYW3b"
    },
    {
      "cell_type": "code",
      "source": [
        "p1 = Rational(1, 2)\n",
        "p2 = Rational(2, 3)\n",
        "print(p1 == p2)\n",
        "print(p1 != p2)\n",
        "print(p1 < p2)\n",
        "print(p1 > p2)\n",
        "print(p1 <= p2)\n",
        "print(p1 >= p2)"
      ],
      "metadata": {
        "colab": {
          "base_uri": "https://localhost:8080/"
        },
        "id": "vD8pV9rpaJ_x",
        "outputId": "a19b0dc5-0446-4b63-f68d-7b434513d166"
      },
      "id": "vD8pV9rpaJ_x",
      "execution_count": 10,
      "outputs": [
        {
          "output_type": "stream",
          "name": "stdout",
          "text": [
            "False\n",
            "True\n",
            "True\n",
            "False\n",
            "True\n",
            "False\n"
          ]
        }
      ]
    },
    {
      "cell_type": "markdown",
      "source": [
        "задание 12. Преобразование к действительному числу (evalf)"
      ],
      "metadata": {
        "id": "dmRs6JeAiBfU"
      },
      "id": "dmRs6JeAiBfU"
    },
    {
      "cell_type": "code",
      "source": [
        "Rational(1, 5).evalf(3)"
      ],
      "metadata": {
        "colab": {
          "base_uri": "https://localhost:8080/",
          "height": 36
        },
        "outputId": "4f0499ca-35a3-4779-b3cc-7e3543467882",
        "id": "OIvUbGz2ijx-"
      },
      "execution_count": 11,
      "outputs": [
        {
          "output_type": "execute_result",
          "data": {
            "text/plain": [
              "'0.200'"
            ],
            "application/vnd.google.colaboratory.intrinsic+json": {
              "type": "string"
            }
          },
          "metadata": {},
          "execution_count": 11
        }
      ],
      "id": "OIvUbGz2ijx-"
    },
    {
      "cell_type": "markdown",
      "source": [
        "задание 13. Преобразование дроби к смешанной форме, т.е. выделение целой части и остатка"
      ],
      "metadata": {
        "id": "Ta6Mk8P8n0Qt"
      },
      "id": "Ta6Mk8P8n0Qt"
    },
    {
      "cell_type": "code",
      "source": [
        "p = Rational(-8, 3).intpart()\n",
        "print('Int part = ', p[0])\n",
        "print('Rational part = ', p[1])\n"
      ],
      "metadata": {
        "colab": {
          "base_uri": "https://localhost:8080/"
        },
        "id": "rZ6KhXAnqHic",
        "outputId": "04cf9303-f2c5-4912-ba5f-eb9f6e73af49"
      },
      "id": "rZ6KhXAnqHic",
      "execution_count": 12,
      "outputs": [
        {
          "output_type": "stream",
          "name": "stdout",
          "text": [
            "Int part =  -2\n",
            "Rational part =  -2/3\n"
          ]
        }
      ]
    },
    {
      "cell_type": "markdown",
      "source": [
        "задание 14, 15. Вид Latex и show (со смешанной формой)"
      ],
      "metadata": {
        "id": "z1D9kExR9Zsf"
      },
      "id": "z1D9kExR9Zsf"
    },
    {
      "cell_type": "code",
      "source": [
        "print(Rational(4, 3).toLatex(True))\n",
        "Rational(-4, 3).show(True)"
      ],
      "metadata": {
        "colab": {
          "base_uri": "https://localhost:8080/",
          "height": 68
        },
        "id": "6JbVgDpx-PTz",
        "outputId": "0bf39291-4fc3-4d53-b236-8a9f3ae508a2"
      },
      "id": "6JbVgDpx-PTz",
      "execution_count": 13,
      "outputs": [
        {
          "output_type": "stream",
          "name": "stdout",
          "text": [
            "1\\dfrac{1}{3}\n"
          ]
        },
        {
          "output_type": "display_data",
          "data": {
            "text/plain": [
              "<IPython.core.display.Math object>"
            ],
            "text/latex": "$\\displaystyle -1\\dfrac{1}{3}$"
          },
          "metadata": {}
        }
      ]
    },
    {
      "cell_type": "markdown",
      "source": [
        "Дополнительные задания"
      ],
      "metadata": {
        "id": "_nvR5TZTtFnv"
      },
      "id": "_nvR5TZTtFnv"
    },
    {
      "cell_type": "code",
      "execution_count": 27,
      "metadata": {
        "id": "RC3bhPV5oS6o"
      },
      "outputs": [],
      "source": [
        "class Complex:\n",
        "    def __init__(self, real, imag):\n",
        "          self.re = real\n",
        "          self.im = imag\n",
        "    def __add__(self, с):\n",
        "          return Complex(self.re+с.re, self.im+с.im)\n",
        "    def __sub__(self, с):\n",
        "          return Complex(self.re-с.re, self.im-с.im)\n",
        "    def __mul__(self, с):\n",
        "          return Complex(self.re*с.re-self.im*с.im, self.re * с.im + self.im * с.re)\n",
        "    def __truediv__(self, с):\n",
        "          m = с.re * с.re + с.im * с.im\n",
        "          return Complex((self.re * с.re + self.im * с.im)/m, (self.im * с.re - self.re * с.im)/m)\n",
        "    def __pow__(self, k):\n",
        "        m = self\n",
        "        for i in range(k-1):\n",
        "          m= m*self\n",
        "        return m\n",
        "    def __str__(self):\n",
        "          if self.im == Rational(0, 1):\n",
        "            return (str)(self.re)\n",
        "          if self.re == Rational(0, 1):\n",
        "            return str(self.im) +f\"i\" \n",
        "          if self.im != Rational(0, 1):\n",
        "            a = (str)(self.re)+'+'\n",
        "            b =(str)(self.im)+f\"i\"\n",
        "            return a +b\n",
        "    def mod(self):\n",
        "          return sqrt(self.re*self.re+self.im*self.im)\n",
        "    def arg(self):\n",
        "          if self.re > Rational(0, 1):\n",
        "            return atan(self.im/self.re)\n",
        "          if self.re < Rational(0, 1):\n",
        "            if (self.m>=Rational(0, 1)):\n",
        "              return pi+atan(self.im/self.re)\n",
        "            else:\n",
        "              return -pi+atan(self.im/self.re)\n",
        "          if self.re == Rational(0, 1):\n",
        "            if (self.m>Rational(0, 1)):\n",
        "              return pi/2\n",
        "            else:\n",
        "              return -pi/2\n",
        "\n",
        "    def show(self, mixed = False):\n",
        "        out_re = self.re.toLatex(mixed)\n",
        "        out_im = self.im.toLatex(mixed)\n",
        "        a = f\"+\"\n",
        "        if (self.im<Rational(0, 1)): a = f\"\"\n",
        "        out=out_re+a+ out_im+f\"i\"\n",
        "        display(Math(out))"
      ],
      "id": "RC3bhPV5oS6o"
    },
    {
      "cell_type": "code",
      "source": [
        "c1 = Complex(Rational(1, 2), Rational(1, 3))\n",
        "c2 = Complex(Rational(1, 3), Rational(1, 2))\n",
        "\n",
        "c1.show()\n",
        "(c1**2).show()\n",
        "(c1+c2).show()\n",
        "(c1-c2).show()\n",
        "(c1*c2).show()\n",
        "(c1/c2).show()\n",
        "print(c1.mod())\n",
        "print(c1.arg())"
      ],
      "metadata": {
        "id": "SFJsHDYZxYkf",
        "outputId": "63285d2f-9492-40a6-cd97-dffaa5a009bb",
        "colab": {
          "base_uri": "https://localhost:8080/",
          "height": 256
        }
      },
      "id": "SFJsHDYZxYkf",
      "execution_count": 28,
      "outputs": [
        {
          "output_type": "display_data",
          "data": {
            "text/plain": [
              "<IPython.core.display.Math object>"
            ],
            "text/latex": "$\\displaystyle \\dfrac{1}{2}+\\dfrac{1}{3}i$"
          },
          "metadata": {}
        },
        {
          "output_type": "display_data",
          "data": {
            "text/plain": [
              "<IPython.core.display.Math object>"
            ],
            "text/latex": "$\\displaystyle \\dfrac{5}{36}+\\dfrac{1}{3}i$"
          },
          "metadata": {}
        },
        {
          "output_type": "display_data",
          "data": {
            "text/plain": [
              "<IPython.core.display.Math object>"
            ],
            "text/latex": "$\\displaystyle \\dfrac{5}{6}+\\dfrac{5}{6}i$"
          },
          "metadata": {}
        },
        {
          "output_type": "display_data",
          "data": {
            "text/plain": [
              "<IPython.core.display.Math object>"
            ],
            "text/latex": "$\\displaystyle \\dfrac{1}{6}-\\dfrac{1}{6}i$"
          },
          "metadata": {}
        },
        {
          "output_type": "display_data",
          "data": {
            "text/plain": [
              "<IPython.core.display.Math object>"
            ],
            "text/latex": "$\\displaystyle 0+\\dfrac{13}{36}i$"
          },
          "metadata": {}
        },
        {
          "output_type": "display_data",
          "data": {
            "text/plain": [
              "<IPython.core.display.Math object>"
            ],
            "text/latex": "$\\displaystyle \\dfrac{12}{13}-\\dfrac{5}{13}i$"
          },
          "metadata": {}
        },
        {
          "output_type": "stream",
          "name": "stdout",
          "text": [
            "0.6009252125773316\n",
            "0.5880026035475675\n"
          ]
        }
      ]
    }
  ],
  "metadata": {
    "kernelspec": {
      "display_name": "Python 3 (ipykernel)",
      "language": "python",
      "name": "python3"
    },
    "language_info": {
      "codemirror_mode": {
        "name": "ipython",
        "version": 3
      },
      "file_extension": ".py",
      "mimetype": "text/x-python",
      "name": "python",
      "nbconvert_exporter": "python",
      "pygments_lexer": "ipython3",
      "version": "3.9.11"
    },
    "colab": {
      "provenance": [],
      "collapsed_sections": [],
      "include_colab_link": true
    }
  },
  "nbformat": 4,
  "nbformat_minor": 5
}